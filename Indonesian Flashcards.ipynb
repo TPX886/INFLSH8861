{
 "cells": [
  {
   "cell_type": "code",
   "execution_count": 1,
   "id": "2507fb5b",
   "metadata": {},
   "outputs": [],
   "source": [
    "import random"
   ]
  },
  {
   "cell_type": "code",
   "execution_count": 2,
   "id": "b8cae0de",
   "metadata": {},
   "outputs": [],
   "source": [
    "flashcards = {\n",
    "    \"beristirahat\" : \"rest\",\n",
    "    \"duduk\" : \"to sit\",\n",
    "    \"mendengarkan\" : \"to listen to\",\n",
    "    \"mencuci\" : \"to wash\",\n",
    "    \"Saya punya satu orang adik perempuan\" : \"I have one younger sister\",   \n",
    "    \"menggambar\" : \"to draw\",\n",
    "    \"Aku harus mencuci sepatu.\" : \"I have to wash my shoes.\",\n",
    "    \"selesai\" : \"to finish\",\n",
    "    \"Saya suka film yang bagus\" : \"I like good movies\",\n",
    "    \"A cute kid\" : \"Seorang anak yang lucu\",\n",
    "    \"I am 16 years old\" : \"Usia saya adalah enam belas tahun\",\n",
    "    \"Account\" : \"Rekening\",\n",
    "    \"Pemilik rekening\": \"Account Holder\",\n",
    "    \"We'll rest today, but sightsee tomorrow.\" : \"Kami akan beristirahat hari ini tetapi besok pergi melihat-lihat.\",\n",
    "    \"berkacamata\" : \"to wear glasses\",\n",
    "    \"berjas\" : \"to wear a jacket\",\n",
    "    \"Do you have to wear a jacket in that restaurant?\" : \"Harus berjas di restoran itu?\",\n",
    "    \"Many ppl in California wear shorts in the winter.\" : \"Banyak orang di California bercelana pendek pada musim dingin.\",\n",
    "    \"What do you do?\" : \"Kamu bekerja apa?\",\n",
    "    \"What’s your work?\" : \"Apa pekerjaanmu?\",\n",
    "    \"Yes, I love it! My favorite food is nasi goreng.\" : \"Yes, I love it! My favorite food is nasi goreng.\",\n",
    "    \"Are you married yet?\" : \"Sudah menikah belum?\",\n",
    "    \"Do you have a wife?\" : \"Sudah beristri?\",\n",
    "    \"Do you have a husband?\" : \"Sudah bersuami?\",\n",
    "    \"Don’t do it later.\" : \"Jangan melakukannya nanti.\",\n",
    "    \"I’ll sit down first.\" : \"Aku duduk dulu.\",\n",
    "    \"We don’t know each other yet.\" : \"Kita belum berkenalan.\",\n",
    "    \"I just recently arrived in America.\" : \"Saya baru datang di Amerika.\",\n",
    "    \"He rarely eats spicy things.\" : \"Dia jarang makan yang pedas.\",\n",
    "    \"I'll sleep for a moment.\":\"Aku tidur sebentar.\", \"You often forget my name.\":\"Kamu sering lupa namaku.\",\n",
    "    \"Tahun depan saya tidak akan tinggal di sini lagi.\":\"Next year I will not be living here anymore.\"\n",
    "}"
   ]
  },
  {
   "cell_type": "code",
   "execution_count": 3,
   "id": "b884fd4b",
   "metadata": {},
   "outputs": [],
   "source": [
    "def display_flashcards():\n",
    "    cards = list(flashcards.items())\n",
    "    random.shuffle(cards)      \n",
    "    for question, answer in cards:\n",
    "        print(f\"Question: {question}\")\n",
    "        user_answer = input(\"Answer: \") \n",
    "        print(f\"Correct answer: {answer}\\n\")"
   ]
  },
  {
   "cell_type": "code",
   "execution_count": null,
   "id": "dc3fd8d3",
   "metadata": {
    "scrolled": true
   },
   "outputs": [
    {
     "name": "stdout",
     "output_type": "stream",
     "text": [
      "Question: selesai\n",
      "Answer: to finish\n",
      "Correct answer: to finish\n",
      "\n",
      "Question: Are you married yet?\n"
     ]
    }
   ],
   "source": [
    "display_flashcards()"
   ]
  },
  {
   "cell_type": "code",
   "execution_count": null,
   "id": "36ecc3cd",
   "metadata": {},
   "outputs": [],
   "source": [
    "df = display_flashcards()"
   ]
  },
  {
   "cell_type": "code",
   "execution_count": null,
   "id": "06b3b6e2",
   "metadata": {},
   "outputs": [],
   "source": [
    "df"
   ]
  }
 ],
 "metadata": {
  "kernelspec": {
   "display_name": "Python 3 (ipykernel)",
   "language": "python",
   "name": "python3"
  },
  "language_info": {
   "codemirror_mode": {
    "name": "ipython",
    "version": 3
   },
   "file_extension": ".py",
   "mimetype": "text/x-python",
   "name": "python",
   "nbconvert_exporter": "python",
   "pygments_lexer": "ipython3",
   "version": "3.11.5"
  }
 },
 "nbformat": 4,
 "nbformat_minor": 5
}
